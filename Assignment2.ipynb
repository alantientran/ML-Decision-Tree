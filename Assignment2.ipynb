{
 "cells": [
  {
   "cell_type": "markdown",
   "metadata": {},
   "source": [
    "#### This assignment may be worked individually or in pairs. Enter your name/s here:\n",
    "    "
   ]
  },
  {
   "cell_type": "code",
   "execution_count": 62,
   "metadata": {
    "collapsed": true
   },
   "outputs": [],
   "source": [
    "# names here\n",
    "# Alan Tran \n",
    "# John R. Smith"
   ]
  },
  {
   "cell_type": "markdown",
   "metadata": {
    "collapsed": true
   },
   "source": [
    "# Assignment 2: Decision Trees\n",
    "\n",
    "In this assignment we'll implement the Decision Tree algorithm to classify patients as either having or not having diabetic retinopathy. For this task we'll be using the Diabetic Retinopathy data set, which contains features from the Messidor image set to predict whether an image contains signs of diabetic retinopathy or not. This dataset has `1150` records and `20` attributes (some categorical, some continuous). You can find additional details about the dataset [here](http://archive.ics.uci.edu/ml/datasets/Diabetic+Retinopathy+Debrecen+Data+Set)."
   ]
  },
  {
   "cell_type": "markdown",
   "metadata": {},
   "source": [
    "Attribute Information:\n",
    "\n",
    "0) The binary result of quality assessment. 0 = bad quality 1 = sufficient quality.\n",
    "\n",
    "1) The binary result of pre-screening, where 1 indicates severe retinal abnormality and 0 its lack. \n",
    "\n",
    "2-7) The results of MA detection. Each feature value stand for the number of MAs found at the confidence levels alpha = 0.5, . . . , 1, respectively. \n",
    "\n",
    "8-15) contain the same information as 2-7) for exudates. However, as exudates are represented by a set of points rather than the number of pixels constructing the lesions, these features are normalized by dividing the \n",
    "number of lesions with the diameter of the ROI to compensate different image sizes. \n",
    "\n",
    "16) The euclidean distance of the center of the macula and the center of the optic disc to provide important information regarding the patient's condition. This feature is also normalized with the diameter of the ROI.\n",
    "\n",
    "17) The diameter of the optic disc. \n",
    "\n",
    "18) The binary result of the AM/FM-based classification.\n",
    "\n",
    "19) Class label. 1 = contains signs of Diabetic Retinopathy, 0 = no signs of Diabetic Retinopathy."
   ]
  },
  {
   "cell_type": "markdown",
   "metadata": {},
   "source": [
    "#### Implementation: \n",
    "The function prototypes are given to you, please don't change those. You can add additional helper functions if needed. \n",
    "\n",
    "*Suggestion:* The dataset is substantially big, for the purpose of easy debugging, work with a subset of the data and test your decision tree implementation on that.\n",
    "\n",
    "#### Notes:\n",
    "Parts of this assignment will be **autograded** so a couple of caveats :-\n",
    "- Entropy is calculated using log with base 2, `math.log2(x)`.\n",
    "- For continuous features ensure that the threshold value lies exactly between 2 values. For example, if for feature 2 the best split occurs between 10 and 15 then the threshold value will be set as 12.5. For binary features [0/1] the threshold value will be 0.5.\n",
    "- All values < `thresh_val` go to the left child and all values >= `thresh_val` go to the right child."
   ]
  },
  {
   "cell_type": "code",
   "execution_count": 63,
   "metadata": {
    "collapsed": true
   },
   "outputs": [],
   "source": [
    "# Standard Headers\n",
    "# You are welcome to add additional headers if you wish\n",
    "# EXCEPT for scikit-learn... You may NOT use scikit-learn for this assignment!\n",
    "import pandas as pd\n",
    "import numpy as np\n",
    "from math import log2"
   ]
  },
  {
   "cell_type": "code",
   "execution_count": 64,
   "metadata": {
    "collapsed": true
   },
   "outputs": [],
   "source": [
    "class DataPoint:\n",
    "    def __str__(self):\n",
    "        return \"< \" + str(self.label) + \": \" + str(self.features) + \" >\"\n",
    "    \n",
    "    def __init__(self, label, features):\n",
    "        self.label = label # the classification label of this data point\n",
    "        self.features = features # a list of feature values for this data point"
   ]
  },
  {
   "cell_type": "markdown",
   "metadata": {},
   "source": [
    "Q1. Read data from a CSV file. Put it into a list of `DataPoints`."
   ]
  },
  {
   "cell_type": "code",
   "execution_count": 65,
   "metadata": {
    "collapsed": true
   },
   "outputs": [],
   "source": [
    "def get_data(filename):\n",
    "    data = []\n",
    "    df = pd.read_csv(filename, header=None)\n",
    "    \n",
    "    for idx, row in df.iterrows() : \n",
    "        dp = DataPoint(label=row[19], features=row[0:19]) # 19 is the class label, whether someone has diabetic retinopathy\n",
    "        data.append(dp)\n",
    "    return data"
   ]
  },
  {
   "cell_type": "code",
   "execution_count": 66,
   "metadata": {
    "collapsed": true
   },
   "outputs": [],
   "source": [
    "class TreeNode:\n",
    "    is_leaf = True          # boolean variable to check if the node is a leaf\n",
    "    feature_idx = None      # index that identifies the feature\n",
    "    thresh_val = None       # threshold value that splits the node\n",
    "    prediction = None       # prediction class (only valid for leaf nodes)\n",
    "    left_child = None       # left TreeNode (all values < thresh_val)\n",
    "    right_child = None      # right TreeNode (all values >= thresh_val)\n",
    "    \n",
    "    def printTree(self, level=0):    # for debugging purposes\n",
    "        if self.is_leaf:\n",
    "            print ('-'*level + 'Leaf Node:      predicts ' + str(self.prediction))\n",
    "        else:\n",
    "            print ('-'*level + 'Internal Node:  splits on feature ' \n",
    "                   + str(self.feature_idx) + ' with threshold ' + str(self.thresh_val))\n",
    "            self.left_child.printTree(level+1)\n",
    "            self.right_child.printTree(level+1)"
   ]
  },
  {
   "cell_type": "markdown",
   "metadata": {},
   "source": [
    "Q2. Implement the function `make_prediction` that takes the decision tree root and a `DataPoint` instance and returns the prediction label."
   ]
  },
  {
   "cell_type": "code",
   "execution_count": 67,
   "metadata": {
    "collapsed": true
   },
   "outputs": [],
   "source": [
    "def make_prediction(tree_root, data_point):\n",
    "    if tree_root.is_leaf : \n",
    "        return tree_root.prediction\n",
    "    if data_point.features[tree_root.feature_idx] >= tree_root.thresh_val : \n",
    "        prediction = make_prediction(tree_root.right_child, data_point)\n",
    "    else : \n",
    "         prediction = make_prediction(tree_root.left_child, data_point) \n",
    "    return prediction"
   ]
  },
  {
   "cell_type": "markdown",
   "metadata": {},
   "source": [
    "Q3. Implement the function `split_dataset` given an input data set, a `feature_idx` and the `threshold` for the feature. `left_split` will have all values < `threshold` and `right_split` will have all values >= `threshold`."
   ]
  },
  {
   "cell_type": "code",
   "execution_count": 68,
   "metadata": {
    "collapsed": true
   },
   "outputs": [],
   "source": [
    "def split_dataset(data, feature_idx, threshold):\n",
    "    left_split = []\n",
    "    right_split = []\n",
    "    for dp in data :\n",
    "        if dp.features[feature_idx] < threshold :\n",
    "            left_split.append(dp)\n",
    "        else :\n",
    "            right_split.append(dp)\n",
    "    return (left_split, right_split)"
   ]
  },
  {
   "cell_type": "markdown",
   "metadata": {},
   "source": [
    "Q4. Implement the function `calc_entropy` to return the entropy of the input dataset."
   ]
  },
  {
   "cell_type": "code",
   "execution_count": 69,
   "metadata": {
    "collapsed": true
   },
   "outputs": [],
   "source": [
    "def calc_entropy(data):\n",
    "    yes = 0\n",
    "    no = 0\n",
    "    for dp in data :\n",
    "        if (dp.label == 1) :\n",
    "            yes = yes + 1\n",
    "        else : \n",
    "            no = no + 1\n",
    "    sum = yes + no\n",
    "\n",
    "    if yes == 0 or no == 0 :\n",
    "        return 0\n",
    "    else : \n",
    "        return -(yes/sum) * log2(yes/sum) - (no/sum) * log2(no/sum)\n"
   ]
  },
  {
   "cell_type": "markdown",
   "metadata": {},
   "source": [
    "\n",
    "Q5. Implement the function `calc_best_threshold` which returns the best information gain and the corresponding threshold value for one feature at `feature_idx`."
   ]
  },
  {
   "cell_type": "code",
   "execution_count": 70,
   "metadata": {
    "collapsed": true
   },
   "outputs": [],
   "source": [
    "# For the sake of meeting the 63% accuracy goal, this method gets about 0.75% better accuracy.\n",
    "def calc_best_threshold(data, feature_idx):\n",
    "    best_info_gain = 0.0\n",
    "    best_thresh = None\n",
    "    parent_entropy = calc_entropy(data)\n",
    "\n",
    "    for i in range(0, len(data) - 1) : \n",
    "        cur_thresh = (data[i].features[feature_idx] + data[i + 1].features[feature_idx])/2\n",
    "        cur_info_gain = calc_gain_at_thresh(cur_thresh, data, feature_idx, parent_entropy)\n",
    "\n",
    "        if cur_info_gain > best_info_gain : \n",
    "            best_info_gain = cur_info_gain\n",
    "            best_thresh = cur_thresh\n",
    "\n",
    "    return (best_info_gain, best_thresh)\n",
    "            \n",
    "def calc_gain_at_thresh(threshold, data, feature_idx, parent_entropy) :\n",
    "    left, right = split_dataset(data, feature_idx, threshold)\n",
    "    e_left = calc_entropy(left)\n",
    "    e_right = calc_entropy(right)\n",
    "    cur_entropy = ((len(left)/len(data)) * e_left) + ((len(right)/len(data)) * e_right)\n",
    "    cur_info_gain = parent_entropy - cur_entropy\n",
    "    return cur_info_gain\n",
    "\n",
    "\n",
    "# This code is a bit less accurate, but only calculates thresholds when there is a class switch.\n",
    "# This makes it run about a minute and a half faster (on our small data subset-- the gains would be much more significant \n",
    "# with more real-world data sets).\n",
    "\n",
    "# def calc_best_threshold(data, feature_idx):\n",
    "#     best_info_gain = 0.0\n",
    "#     best_thresh = None\n",
    "#     parent_entropy = calc_entropy(data)\n",
    "\n",
    "#     # sort data by feature_idx\n",
    "#     data = sorted(data, key=lambda x: x.features[feature_idx])\n",
    "\n",
    "#     # Check if all the values for an attribute are the same\n",
    "#     unique = set(dp.features[feature_idx] for dp in data)\n",
    "#     if (len(unique) == 1) :\n",
    "#         return best_info_gain, best_thresh\n",
    "\n",
    "#     for index in range(len(data)) :\n",
    "#         # Check if right and left node feature values differ\n",
    "#         if (index > 0 and data[index-1].label != data[index].label) : \n",
    "#             if (data[index-1].features[feature_idx] == data[index].features[feature_idx]):\n",
    "#                 # check to the left\n",
    "#                 left_bound = index\n",
    "#                 while (left_bound-2 > 0 and data[left_bound-2].features[feature_idx] \n",
    "#                             == data[left_bound-1].features[feature_idx]) :\n",
    "                    \n",
    "#                     left_bound = left_bound-1\n",
    "#                 left_thresh = (data[left_bound-2].features[feature_idx] + data[left_bound-1].features[feature_idx])/2\n",
    "#                 info_gain_left = calc_gain_at_thresh(left_thresh, data, feature_idx, parent_entropy)\n",
    "#                 if info_gain_left > best_info_gain: \n",
    "#                     best_info_gain = info_gain_left\n",
    "#                     best_thresh = left_thresh\n",
    "\n",
    "#                 # check to the right\n",
    "#                 right_bound = index\n",
    "#                 while (right_bound + 1 < len(data) and data[right_bound].features[feature_idx] \n",
    "#                             == data[right_bound+1].features[feature_idx]) :\n",
    "                    \n",
    "#                     right_bound = right_bound+1\n",
    "#                 right_thresh = (data[right_bound-2].features[feature_idx] + data[right_bound-1].features[feature_idx])/2\n",
    "#                 info_gain_right = calc_gain_at_thresh(right_thresh, data, feature_idx, parent_entropy)\n",
    "#                 if info_gain_right > best_info_gain: \n",
    "#                     best_info_gain = info_gain_right\n",
    "#                     best_thresh = right_thresh\n",
    "                \n",
    "#             else : \n",
    "#                 cur_thresh = (data[index-1].features[feature_idx] + data[index].features[feature_idx])/2\n",
    "#                 cur_info_gain = calc_gain_at_thresh(cur_thresh, data, feature_idx, parent_entropy)\n",
    "\n",
    "#                 if cur_info_gain > best_info_gain : \n",
    "#                     best_info_gain = cur_info_gain\n",
    "#                     best_thresh = cur_thresh\n",
    "#     return (best_info_gain, best_thresh)"
   ]
  },
  {
   "cell_type": "markdown",
   "metadata": {},
   "source": [
    "Q6. Implement the function `identify_best_split` which returns the best feature to split on for an input dataset, and also returns the corresponding threshold value."
   ]
  },
  {
   "cell_type": "code",
   "execution_count": 71,
   "metadata": {
    "collapsed": true
   },
   "outputs": [],
   "source": [
    "def identify_best_split(data):\n",
    "    if len(data) < 2:\n",
    "        print(\"none time!\")\n",
    "        return (None, None)\n",
    "    best_feature = 0.0\n",
    "    best_thresh = 0.0\n",
    "    best_info_gain = 0.0\n",
    "    cur_threshold = 0.0 \n",
    "    cur_info_gain = 0.0\n",
    "    parent_entropy = calc_entropy(data)\n",
    "    for ft in range(0, 19) :\n",
    "        if data[0].features[ft] > 1 : \n",
    "            # This is a continuous feature, so we need to worry about thresholds \n",
    "            cur_info_gain, cur_threshold = calc_best_threshold(data, ft)\n",
    "        else : \n",
    "            # This is a categorical feature. The threshold will always be 0.5 for these features\n",
    "            cur_threshold = 0.5\n",
    "            left, right = split_dataset(data, ft, cur_threshold)\n",
    "            entropy_left = calc_entropy(left)\n",
    "            entropy_right = calc_entropy(right)\n",
    "            total_entropy = (len(left) / len (data) * entropy_left) + ((len(right) / len(data)) * entropy_right)\n",
    "            cur_info_gain = parent_entropy - total_entropy\n",
    "        if (cur_info_gain > best_info_gain) :\n",
    "            best_info_gain = cur_info_gain\n",
    "            best_feature = ft\n",
    "            best_thresh = cur_threshold\n",
    "    return (best_feature, best_thresh)"
   ]
  },
  {
   "cell_type": "markdown",
   "metadata": {},
   "source": [
    "Q7. Implement the function `create_leaf_node` which returns a `TreeNode` with `is_leaf=True` and `prediction` set to whichever classification occurs most in the dataset at this node. If there is a tie, choose classification label 1 (has disease). "
   ]
  },
  {
   "cell_type": "code",
   "execution_count": 72,
   "metadata": {
    "collapsed": true
   },
   "outputs": [],
   "source": [
    "def create_leaf_node(data):\n",
    "    node = TreeNode()\n",
    "    node.is_leaf=True\n",
    "\n",
    "    yes = 0\n",
    "    no = 0\n",
    "    for dp in data : \n",
    "        if dp.label : \n",
    "            yes = yes + 1\n",
    "        else : \n",
    "            no = no + 1\n",
    "    if (yes >= no) :\n",
    "        node.prediction = 1\n",
    "    else :\n",
    "        node.prediction = 0\n",
    "\n",
    "    return node"
   ]
  },
  {
   "cell_type": "markdown",
   "metadata": {},
   "source": [
    "Q8. Implement the `create_decision_tree` function. `max_levels` denotes the maximum height of the tree (for example if `max_levels = 1` then the decision tree will only contain the leaf node at the root). [Hint: this is where the recursion happens.]"
   ]
  },
  {
   "cell_type": "code",
   "execution_count": 73,
   "metadata": {
    "collapsed": true
   },
   "outputs": [],
   "source": [
    "def create_decision_tree(data, max_levels):\n",
    "    my_feature, my_thresh = identify_best_split(data)\n",
    "    left, right = split_dataset(data, my_feature, my_thresh)\n",
    "\n",
    "    root_node = TreeNode()\n",
    "    root_node.feature_idx = my_feature\n",
    "    root_node.thresh_val = my_thresh\n",
    "    root_node.is_leaf = False\n",
    "\n",
    "    if (max_levels == 1) :\n",
    "        return create_leaf_node(data) \n",
    "    root_node.left_child = tree_helper(left, 1, max_levels, root_node)\n",
    "    root_node.right_child = tree_helper(right, 1, max_levels, root_node)\n",
    "    \n",
    "    return root_node\n",
    "\n",
    "def tree_helper(data_sub, cur_height, max_levels, cur_node) : \n",
    "    # Base case - all pure OR we've reached max height\n",
    "    # todo: what if 'all of the attributes are the same'\n",
    "    child = TreeNode()\n",
    "    if (cur_height == max_levels or calc_entropy(data_sub) == 0) : \n",
    "        return create_leaf_node(data_sub)\n",
    "    child.is_leaf = False\n",
    "\n",
    "    my_feature, my_thresh = identify_best_split(data_sub)\n",
    "\n",
    "    left, right = split_dataset(data_sub, my_feature, my_thresh)\n",
    "    child.feature_idx = my_feature\n",
    "    child.thresh_val = my_thresh\n",
    "\n",
    "    child.left_child = tree_helper(left, cur_height + 1, max_levels, child)\n",
    "    child.right_child = tree_helper(right, cur_height + 1, max_levels, child)\n",
    "    return child"
   ]
  },
  {
   "cell_type": "markdown",
   "metadata": {},
   "source": [
    "Q9. Given a test set, the function `calc_accuracy` returns the accuracy of the classifier. You'll use the `make_prediction` function for this."
   ]
  },
  {
   "cell_type": "code",
   "execution_count": 74,
   "metadata": {
    "collapsed": true
   },
   "outputs": [],
   "source": [
    "def calc_accuracy(tree_root, data):\n",
    "    correct = 0\n",
    "    for dp in range(len(data)) : \n",
    "        res = make_prediction(tree_root, data[dp])\n",
    "        if (res == data[dp].label) :\n",
    "            correct = correct + 1\n",
    "     \n",
    "    return correct / len(data)"
   ]
  },
  {
   "cell_type": "markdown",
   "metadata": {},
   "source": [
    "Q10. Keeping the `max_levels` parameter as 10, use 5-fold cross validation to measure the accuracy of the model. Print the accuracy of the model."
   ]
  },
  {
   "cell_type": "code",
   "execution_count": 75,
   "metadata": {
    "collapsed": true,
    "scrolled": true
   },
   "outputs": [
    {
     "name": "stdout",
     "output_type": "stream",
     "text": [
      "Training set size: 920\n",
      "Test set size    : 230\n"
     ]
    },
    {
     "name": "stdout",
     "output_type": "stream",
     "text": [
      "Accuracy at fold 0 : 0.6217391304347826\n",
      "Training set size: 920\n",
      "Test set size    : 230\n",
      "Accuracy at fold 1 : 0.6304347826086957\n",
      "Training set size: 920\n",
      "Test set size    : 230\n",
      "Accuracy at fold 2 : 0.6739130434782609\n",
      "Training set size: 920\n",
      "Test set size    : 230\n",
      "Accuracy at fold 3 : 0.6304347826086957\n",
      "Training set size: 920\n",
      "Test set size    : 230\n",
      "Accuracy at fold 4 : 0.6434782608695652\n",
      "Time taken: 181.8340048789978\n",
      "Total accuracy on the test set is (drumroll):  63.99999999999999\n"
     ]
    }
   ],
   "source": [
    "# edit the code here - this is just a sample to get you started\n",
    "import time\n",
    "\n",
    "data = get_data(\"messidor_features.txt\")\n",
    "data_subsets = []\n",
    "sub_len = len(data) // 5\n",
    "bounds = []\n",
    "bounds.append((0, sub_len))\n",
    "\n",
    "sum = 0.0\n",
    "\n",
    "# partition data into train_set and test_set\n",
    "train_set = []\n",
    "testing_set = []\n",
    "\n",
    "for i in range(1, 5) :\n",
    "    bounds.append((bounds[i-1][0] + sub_len, bounds[i-1][1] + sub_len))\n",
    "\n",
    "for bound in bounds :\n",
    "    data_subsets.append(data[bound[0]:bound[1]])\n",
    "\n",
    "start = time.time()\n",
    "\n",
    "for testing_idx in range (0,5):\n",
    "    for training_idx in range(0, len(data_subsets)):\n",
    "        if training_idx!=testing_idx :\n",
    "            train_set.extend(data_subsets[training_idx])\n",
    "        else:\n",
    "            testing_set = data_subsets[training_idx]         \n",
    "    \n",
    "    print ('Training set size:', len(train_set))\n",
    "    print ('Test set size    :', len(testing_set))\n",
    "    cur_accuracy = (calc_accuracy(create_decision_tree(train_set, 10), testing_set))\n",
    "    print(\"Accuracy at fold\", testing_idx, \":\", cur_accuracy)\n",
    "    sum = sum + cur_accuracy\n",
    "    # reset training set\n",
    "    train_set = []\n",
    "end = time.time()\n",
    "print ('Time taken:', end - start)\n",
    "\n",
    "accuracy = (sum/5)*100.0\n",
    "print(\"Total accuracy on the test set is (drumroll): \", accuracy)"
   ]
  }
 ],
 "metadata": {
  "kernelspec": {
   "display_name": "Python 3 (ipykernel)",
   "language": "python",
   "name": "python3"
  },
  "language_info": {
   "codemirror_mode": {
    "name": "ipython",
    "version": 3
   },
   "file_extension": ".py",
   "mimetype": "text/x-python",
   "name": "python",
   "nbconvert_exporter": "python",
   "pygments_lexer": "ipython3",
   "version": "3.11.5"
  }
 },
 "nbformat": 4,
 "nbformat_minor": 2
}
